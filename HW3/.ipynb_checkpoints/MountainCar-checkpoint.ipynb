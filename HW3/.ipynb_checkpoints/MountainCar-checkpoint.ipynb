{
 "cells": [
  {
   "cell_type": "code",
   "execution_count": 68,
   "metadata": {
    "collapsed": true
   },
   "outputs": [],
   "source": [
    "import numpy as np\n",
    "import copy\n",
    "from collections import defaultdict\n",
    "%matplotlib inline\n",
    "from datetime import datetime\n",
    "\n",
    "import matplotlib\n",
    "import numpy as np\n",
    "import matplotlib.pyplot as plt\n",
    "\n",
    "class MountainCar():\n",
    "    def __init__(self):\n",
    "        self.min_x = -1.2\n",
    "        self.max_x = 0.6\n",
    "        \n",
    "        self.possible_actions = [-1,0,1]\n",
    "        self.reset_state()\n",
    "        return\n",
    "    \n",
    "    def next_step(self,action):\n",
    "        self.time+=1\n",
    "        self.reward = -1\n",
    "        self.velocity += 0.001*action - 0.0025*np.cos(3*self.pos)\n",
    "        if(self.velocity<-0.07):\n",
    "            self.velocity = -0.07\n",
    "        if(self.velocity>0.07):\n",
    "            self.velocity = 0.07\n",
    "        self.pos = self.pos + self.velocity\n",
    "        \n",
    "        \n",
    "        if(self.pos<-1.2):\n",
    "            self.pos = -1.2\n",
    "        if(self.pos>0.5):\n",
    "            self.pos = 0.5\n",
    "            self.reward = 0\n",
    "            self.terminated = True\n",
    "        \n",
    "        if(self.time == 20000):\n",
    "            self.terminated = True\n",
    "        \n",
    "        self.state = (self.pos,self.velocity)\n",
    "        return (self.state), self.reward\n",
    "    \n",
    "    def reset_state(self):\n",
    "        self.pos = -0.5\n",
    "        self.velocity = 0\n",
    "        self.state = (self.pos,self.velocity)\n",
    "        self.time = 0\n",
    "        self.terminated = False\n",
    "        "
   ]
  },
  {
   "cell_type": "code",
   "execution_count": 74,
   "metadata": {
    "collapsed": true
   },
   "outputs": [],
   "source": [
    "import numpy as np\n",
    "class StraightCar():\n",
    "    def __init__(self):\n",
    "        self.min_x = -1.2\n",
    "        self.max_x = 0.6\n",
    "        \n",
    "        self.possible_actions = [-1,0,1]\n",
    "        self.reset_state()\n",
    "        return\n",
    "    \n",
    "    def next_step(self,action):\n",
    "        self.time+=1\n",
    "        self.reward = -1\n",
    "        self.velocity += 0.001*action \n",
    "        \n",
    "        if(self.velocity<0):\n",
    "            self.velocity = 0\n",
    "        self.pos = self.pos + self.velocity\n",
    "        \n",
    "        \n",
    "        if(self.pos>0.5):\n",
    "            self.pos = 0.5\n",
    "            self.reward = 0\n",
    "            self.terminated = True\n",
    "        \n",
    "        if(self.time == 20000):\n",
    "            self.terminated = True\n",
    "        \n",
    "        self.state = (self.pos,self.velocity)\n",
    "        return (self.state), self.reward\n",
    "    \n",
    "    def reset_state(self):\n",
    "        self.pos = 0.0\n",
    "        self.velocity = 0\n",
    "        self.state = (self.pos,self.velocity)\n",
    "        self.time = 0\n",
    "        self.reward = -1\n",
    "        self.terminated = False\n",
    "        "
   ]
  },
  {
   "cell_type": "code",
   "execution_count": 4,
   "metadata": {
    "collapsed": false
   },
   "outputs": [
    {
     "name": "stdout",
     "output_type": "stream",
     "text": [
      "0.001 0.001\n",
      "0.003 0.002\n",
      "0.006 0.003\n",
      "0.01 0.004\n",
      "0.015 0.005\n",
      "0.021 0.006\n",
      "0.028 0.007\n",
      "0.036 0.008\n",
      "0.045 0.009\n",
      "0.055 0.01\n",
      "0.066 0.011\n",
      "0.078 0.012\n",
      "0.091 0.013\n",
      "0.105 0.014\n",
      "0.12 0.015\n",
      "0.136 0.016\n",
      "0.153 0.017\n",
      "0.171 0.018\n",
      "0.19 0.019\n",
      "0.21 0.02\n",
      "0.231 0.021\n",
      "0.253 0.022\n",
      "0.276 0.023\n",
      "0.3 0.024\n",
      "0.325 0.025\n",
      "0.351 0.026\n",
      "0.378 0.027\n",
      "0.406 0.028\n",
      "0.435 0.029\n",
      "0.465 0.03\n",
      "0.496 0.031\n",
      "0.5 0.032\n"
     ]
    }
   ],
   "source": [
    "sc = StraightCar()\n",
    "\n",
    "while(not sc.terminated):\n",
    "    sc.next_step(1)\n",
    "    print sc.pos, sc.velocity"
   ]
  },
  {
   "cell_type": "code",
   "execution_count": null,
   "metadata": {
    "collapsed": false
   },
   "outputs": [],
   "source": [
    "mc = MountainCar()\n",
    "\n",
    "\n",
    "\n",
    "while(not mc.terminated):\n",
    "    mc.next_step(1)\n",
    "    print mc.pos, mc.velocity"
   ]
  },
  {
   "cell_type": "code",
   "execution_count": null,
   "metadata": {
    "collapsed": false
   },
   "outputs": [],
   "source": []
  },
  {
   "cell_type": "code",
   "execution_count": 5,
   "metadata": {
    "collapsed": false
   },
   "outputs": [],
   "source": [
    "class QLearning():\n",
    "    def __init__(self):\n",
    "        self.Q[W,a] = 0\n",
    "        return\n",
    "    \n",
    "    def Q(s,a):\n",
    "        return 1\n",
    "    def Q_w(s,a):\n",
    "        return 1\n",
    "    \n",
    "    \n",
    "    def run(self,env):\n",
    "        while(False):\n",
    "            env.reset_state()\n",
    "            s = copy.deepcopy(env.state)\n",
    "            while(not env.terminated):\n",
    "                a = chooseAction(s,env.possible_actions,egreedy=True)\n",
    "                next_state,r = env.next_step(a)\n",
    "                max_val = None\n",
    "                for a_prime in env.possible_actions:\n",
    "                    if(max_val==None):\n",
    "                        max_val = Q_w(next_state,a_prime)\n",
    "                    else:\n",
    "                        max_val = max(max_val,Q_w(next_state,a_prime))\n",
    "                val = Q(W,a) + self.alpha*(r + self.gamma * max_val) - Q_w(s,a) * dQ_w(s,a)\n",
    "                # TO DO Update Q(W,a) to val\n",
    "                s = copy.deepcopy(next_state)\n"
   ]
  },
  {
   "cell_type": "code",
   "execution_count": null,
   "metadata": {
    "collapsed": true
   },
   "outputs": [],
   "source": [
    "# class SARSA():\n",
    "#     def __init__(self):\n",
    "#         self.W = 0\n",
    "#         self.alpha = 1\n",
    "#         self.gamma = 1\n",
    "#         copy.deepcopy(a_prim)\n",
    "#         return\n",
    "    \n",
    "#     def run(self, env):\n",
    "#         while():\n",
    "#             env.reset_state()\n",
    "#             s = copy.deepcopy(env.state)\n",
    "#             a = chooseAction(s,env.possible_actions,egreedy=True)\n",
    "#             while(not env.terminated):\n",
    "#                 next_state,r = env.next_step(a)\n",
    "#                 a_prime = chooseAction(next_state,env.possible_actions,egreedy=True)\n",
    "#                 self.W = self.W + self.alpha*(r + self.gamma * Q_w(next_state,a_prime) - Q_w(s,a)) * dQ_w(s,a)\n",
    "#                 a = copy.deepcopy(a_prime)\n",
    "#                 s = copy.deepcopy(next_state)\n",
    "                \n",
    "                \n",
    "                "
   ]
  },
  {
   "cell_type": "code",
   "execution_count": 88,
   "metadata": {
    "collapsed": false
   },
   "outputs": [],
   "source": [
    "class FirstOrderFourier():\n",
    "    def __init__(self, order):\n",
    "        self.order = order\n",
    "        c = np.arange(order)\n",
    "        self.c = [(v1,v2) for v2 in c for v1 in c]\n",
    "        self.length = len(self.c)\n",
    "        return\n",
    "    \n",
    "    def normalize(self, pos, vel):\n",
    "#         print pos,\"***\"\n",
    "        pos = (pos + 1.2)/(1.7)\n",
    "        vel = (vel + 0.07)/(0.14)\n",
    "        return pos,vel\n",
    "    \n",
    "    \n",
    "    def getFeature(self,s):\n",
    "        v = np.ones(self.order*self.order) # 3 for len of actions\n",
    "        pos_v, vel_v = s\n",
    "        pos_v, vel_v = self.normalize(pos_v,vel_v)\n",
    "        i=0\n",
    "        for c1,c2 in self.c:\n",
    "            v[i] = np.cos(np.pi * ((c1 * pos_v) + (c2 * vel_v)))\n",
    "            i+=1\n",
    "        return v\n",
    "\n",
    "        "
   ]
  },
  {
   "cell_type": "code",
   "execution_count": 167,
   "metadata": {
    "collapsed": false
   },
   "outputs": [],
   "source": [
    "import random\n",
    "\n",
    "def decision(probability):\n",
    "    return random.random() < probability\n",
    "class SARSA():\n",
    "    def __init__(self, env, order=3, alpha=0.05, gamma=0.9, epsilon=0.1 ):\n",
    "        self.total = order*order\n",
    "        self.W = np.array([0.0] * (self.total * len(env.possible_actions)) )\n",
    "        self.alpha = alpha\n",
    "        self.gamma = gamma\n",
    "        self.epsilon = epsilon\n",
    "        self.env=env\n",
    "        self.f = FirstOrderFourier(order)\n",
    "        self.episode_count = 0\n",
    "        self.episode_stop_count = 2\n",
    "        self.time_steps = np.array([0.0] * self.episode_stop_count)\n",
    "        self.episodes = np.array([0.0] * self.episode_stop_count)\n",
    "        return\n",
    "    \n",
    "    def selectEGreedy(self, state):\n",
    "        feature = self.phi(state[0],state[1])\n",
    "        if(decision(self.epsilon)):\n",
    "            # Return some value, exploring\n",
    "            return random.choice(self.env.possible_actions)\n",
    "        maxVal = None\n",
    "        maxAct = None\n",
    "        y = self.W*np.tile(feature,3)\n",
    "        assert len(self.W) == len(np.tile(feature,3))\n",
    "        result = [0*3]\n",
    "        result = np.add.reduceat(y, [0,self.total,2*self.total])\n",
    "        result = np.array([np.sum(y[0:self.total]),np.sum(y[self.total:2*self.total]),np.sum(y[2*self.total:])])\n",
    "        assert result[0]==np.sum(y[0:self.total])\n",
    "        assert result[1]==np.sum(y[self.total:2*self.total])\n",
    "#         print y[2*self.total:], result[2], np.sum(y[2*self.total:])\n",
    "        assert result[2]==np.sum(y[2*self.total:])\n",
    "        assert (np.argmax(result) - 1) in [-1,0,1]\n",
    "        return np.argmax(result) - 1\n",
    "        \n",
    "    def phi(self, s,v):\n",
    "        state = (s,v)\n",
    "        return self.f.getFeature(state)\n",
    "    \n",
    "    def run(self, env):\n",
    "        while(self.episode_count < self.episode_stop_count):\n",
    "            env.reset_state()\n",
    "            s = copy.deepcopy(env.state)\n",
    "            a = self.selectEGreedy(s)\n",
    "            while(not env.terminated):\n",
    "                next_state,r = env.next_step(a)\n",
    "                a_prime = self.selectEGreedy(next_state)\n",
    "                phi_v = self.phi(s[0],s[1])\n",
    "                start = a_prime + 1\n",
    "                start_a = a+1\n",
    "                delta_t = (r + (self.gamma * (np.dot(self.W[start*self.total : start*self.total+self.total],self.phi(next_state[0],next_state[1])))) - (np.dot(self.W[start_a*self.total:start_a*self.total+self.total],phi_v)))\n",
    "                self.W[start_a*self.total:start_a*self.total+self.total] += (self.alpha* delta_t * phi_v)\n",
    "#                 print next_state,a_prime\n",
    "                a = copy.deepcopy(a_prime)\n",
    "                s = copy.deepcopy(next_state)\n",
    "            self.episodes[self.episode_count] = -(float(env.time+1))/(2)\n",
    "            self.time_steps[self.episode_count] = env.time\n",
    "            self.episode_count+=1\n"
   ]
  },
  {
   "cell_type": "code",
   "execution_count": 168,
   "metadata": {
    "collapsed": false
   },
   "outputs": [],
   "source": [
    "mc = MountainCar()\n",
    "s = SARSA(mc,3)\n",
    "s.run(mc)"
   ]
  },
  {
   "cell_type": "code",
   "execution_count": 103,
   "metadata": {
    "collapsed": true
   },
   "outputs": [],
   "source": [
    "def plot(a):\n",
    "    plt.plot(np.arange(len(a)), a)"
   ]
  },
  {
   "cell_type": "code",
   "execution_count": 169,
   "metadata": {
    "collapsed": false
   },
   "outputs": [
    {
     "data": {
      "text/plain": [
       "array([ -293. , -2250.5])"
      ]
     },
     "execution_count": 169,
     "metadata": {},
     "output_type": "execute_result"
    }
   ],
   "source": [
    "s.episodes"
   ]
  },
  {
   "cell_type": "code",
   "execution_count": 170,
   "metadata": {
    "collapsed": false
   },
   "outputs": [
    {
     "data": {
      "text/plain": [
       "array([  585.,  4500.])"
      ]
     },
     "execution_count": 170,
     "metadata": {},
     "output_type": "execute_result"
    }
   ],
   "source": [
    "s.time_steps"
   ]
  },
  {
   "cell_type": "code",
   "execution_count": 171,
   "metadata": {
    "collapsed": false
   },
   "outputs": [
    {
     "data": {
      "image/png": "[encoded data removed]",
      "text/plain": [
       "<matplotlib.figure.Figure at 0x120e70290>"
      ]
     },
     "metadata": {},
     "output_type": "display_data"
    }
   ],
   "source": [
    "plot(s.episodes)"
   ]
  }
 ],
 "metadata": {
  "anaconda-cloud": {},
  "kernelspec": {
   "display_name": "Python [Root]",
   "language": "python",
   "name": "Python [Root]"
  },
  "language_info": {
   "codemirror_mode": {
    "name": "ipython",
    "version": 2
   },
   "file_extension": ".py",
   "mimetype": "text/x-python",
   "name": "python",
   "nbconvert_exporter": "python",
   "pygments_lexer": "ipython2",
   "version": "2.7.12"
  }
 },
 "nbformat": 4,
 "nbformat_minor": 0
}
